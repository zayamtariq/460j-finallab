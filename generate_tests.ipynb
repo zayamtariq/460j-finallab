{
 "cells": [
  {
   "cell_type": "code",
   "execution_count": 22,
   "metadata": {},
   "outputs": [],
   "source": [
    "#first import libraries\n",
    "import numpy as np\n",
    "import matplotlib.pyplot as plt\n",
    "from PIL import Image, ImageDraw, ImageFont, ImageEnhance\n",
    "import os\n",
    "\n",
    "#tensorflow\n",
    "import tensorflow as tf\n",
    "#from tensorflow.python.keras.utils.vis_utils import plot_model\n",
    "\n",
    "#import time\n",
    "import time"
   ]
  },
  {
   "cell_type": "code",
   "execution_count": 23,
   "metadata": {},
   "outputs": [],
   "source": [
    "background_images = 'images/waldo_background.jpg'\n",
    "waldo = 'images/waldo.png'\n",
    "wilma = 'images/wilma.png'"
   ]
  },
  {
   "cell_type": "code",
   "execution_count": 24,
   "metadata": {},
   "outputs": [],
   "source": [
    "import random\n",
    "\n",
    "random.seed(42)"
   ]
  },
  {
   "cell_type": "code",
   "execution_count": 25,
   "metadata": {},
   "outputs": [],
   "source": [
    "image_waldo = Image.open(waldo) \n",
    "image_wilma = Image.open(wilma) \n",
    "background = Image.open(background_images)"
   ]
  },
  {
   "cell_type": "code",
   "execution_count": 26,
   "metadata": {},
   "outputs": [
    {
     "data": {
      "text/plain": [
       "(3000, 1926)"
      ]
     },
     "execution_count": 26,
     "metadata": {},
     "output_type": "execute_result"
    }
   ],
   "source": [
    "background.size "
   ]
  },
  {
   "attachments": {},
   "cell_type": "markdown",
   "metadata": {},
   "source": [
    "1. create sections of waldo "
   ]
  },
  {
   "cell_type": "code",
   "execution_count": 27,
   "metadata": {},
   "outputs": [],
   "source": [
    "# store all diff sections in this array \n",
    "waldo_sections = [] "
   ]
  },
  {
   "cell_type": "code",
   "execution_count": 28,
   "metadata": {},
   "outputs": [
    {
     "data": {
      "text/plain": [
       "(812, 1600)"
      ]
     },
     "execution_count": 28,
     "metadata": {},
     "output_type": "execute_result"
    }
   ],
   "source": [
    "image_waldo.size"
   ]
  },
  {
   "cell_type": "code",
   "execution_count": 29,
   "metadata": {},
   "outputs": [],
   "source": [
    "new_size = (101, 200) # Set the new size (width, height) in pixels\n",
    "image_waldo = image_waldo.resize(new_size)"
   ]
  },
  {
   "cell_type": "code",
   "execution_count": 30,
   "metadata": {},
   "outputs": [
    {
     "data": {
      "text/plain": [
       "(101, 200)"
      ]
     },
     "execution_count": 30,
     "metadata": {},
     "output_type": "execute_result"
    }
   ],
   "source": [
    "image_waldo.size "
   ]
  },
  {
   "cell_type": "code",
   "execution_count": 31,
   "metadata": {},
   "outputs": [],
   "source": [
    "# Get the dimensions of the image\n",
    "width, height = image_waldo.size\n",
    "\n",
    "# need to redefine section height and width randomly every time \n",
    "section_width = random.randint(40, 101) \n",
    "section_height = random.randint(100, 200) # randomly choosing a section of waldo from 400 (just face) to 1600 (full body)\n",
    "\n",
    "# Loop through 1000 times\n",
    "for i in range(1000):\n",
    "    # Generate random x and y coordinates for the top-left corner of the section\n",
    "    x = random.randint(0, width - section_width)\n",
    "    y = 0 # always starting at the top of waldo \n",
    "\n",
    "    # need to redefine section height and width randomly every time \n",
    "    section_width = random.randint(40, 101) \n",
    "    section_height = random.randint(100, 200) # randomly choosing a section of waldo from 400 (just face) to 1600 (full body)\n",
    "\n",
    "    # Crop the image to the section\n",
    "    section = image_waldo.crop((x, y, x + section_width, y + section_height))\n",
    "\n",
    "    # Do something with the section, for example save it to a file\n",
    "    # section.save(f\"section_{i}.png\")\n",
    "    waldo_sections.append(section) "
   ]
  },
  {
   "cell_type": "code",
   "execution_count": 32,
   "metadata": {},
   "outputs": [
    {
     "data": {
      "image/png": "[encoded data removed]",
      "text/plain": [
       "<PIL.Image.Image image mode=RGBA size=54x117>"
      ]
     },
     "execution_count": 32,
     "metadata": {},
     "output_type": "execute_result"
    }
   ],
   "source": [
    "waldo_sections[1] "
   ]
  },
  {
   "cell_type": "code",
   "execution_count": 33,
   "metadata": {},
   "outputs": [
    {
     "data": {
      "image/png": "[encoded data removed]",
      "text/plain": [
       "<PIL.Image.Image image mode=RGBA size=46x186>"
      ]
     },
     "execution_count": 33,
     "metadata": {},
     "output_type": "execute_result"
    }
   ],
   "source": [
    "waldo_sections[2] "
   ]
  },
  {
   "cell_type": "code",
   "execution_count": 34,
   "metadata": {},
   "outputs": [
    {
     "data": {
      "image/png": "[encoded data removed]",
      "text/plain": [
       "<PIL.Image.Image image mode=RGBA size=43x151>"
      ]
     },
     "execution_count": 34,
     "metadata": {},
     "output_type": "execute_result"
    }
   ],
   "source": [
    "waldo_sections[99] "
   ]
  },
  {
   "attachments": {},
   "cell_type": "markdown",
   "metadata": {},
   "source": [
    "2. we can do the same for wilma now too "
   ]
  },
  {
   "cell_type": "code",
   "execution_count": 35,
   "metadata": {},
   "outputs": [],
   "source": [
    "wilma_sections = [] "
   ]
  },
  {
   "cell_type": "code",
   "execution_count": 36,
   "metadata": {},
   "outputs": [
    {
     "data": {
      "text/plain": [
       "(469, 1000)"
      ]
     },
     "execution_count": 36,
     "metadata": {},
     "output_type": "execute_result"
    }
   ],
   "source": [
    "image_wilma.size"
   ]
  },
  {
   "cell_type": "code",
   "execution_count": 37,
   "metadata": {},
   "outputs": [],
   "source": [
    "new_size = (70, 150) # Set the new size (width, height) in pixels\n",
    "image_wilma = image_wilma.resize(new_size)"
   ]
  },
  {
   "cell_type": "code",
   "execution_count": 38,
   "metadata": {},
   "outputs": [],
   "source": [
    "# Get the dimensions of the image\n",
    "width, height = image_wilma.size\n",
    "\n",
    "section_width = random.randint(25, 70) \n",
    "section_height = random.randint(80, 150) # randomly choosing a section of wilma \n",
    "\n",
    "# Loop through 1000 times\n",
    "for i in range(1000):\n",
    "    # Generate random x and y coordinates for the top-left corner of the section\n",
    "    x = random.randint(0, width - section_width)\n",
    "    y = 0 # always starting at the top of wilma \n",
    "\n",
    "    # need to redefine section height and width randomly every time \n",
    "    section_width = random.randint(25, 70) \n",
    "    section_height = random.randint(80, 150) # randomly choosing a section of wilma \n",
    "\n",
    "    # Crop the image to the section\n",
    "    section = image_wilma.crop((x, y, x + section_width, y + section_height))\n",
    "\n",
    "    # Do something with the section, for example save it to a file\n",
    "    wilma_sections.append(section) "
   ]
  },
  {
   "cell_type": "code",
   "execution_count": 39,
   "metadata": {},
   "outputs": [
    {
     "data": {
      "image/png": "[encoded data removed]",
      "text/plain": [
       "<PIL.Image.Image image mode=RGBA size=35x131>"
      ]
     },
     "execution_count": 39,
     "metadata": {},
     "output_type": "execute_result"
    }
   ],
   "source": [
    "wilma_sections[1]"
   ]
  },
  {
   "cell_type": "code",
   "execution_count": 40,
   "metadata": {},
   "outputs": [
    {
     "data": {
      "image/png": "[encoded data removed]",
      "text/plain": [
       "<PIL.Image.Image image mode=RGBA size=33x141>"
      ]
     },
     "execution_count": 40,
     "metadata": {},
     "output_type": "execute_result"
    }
   ],
   "source": [
    "wilma_sections[5]"
   ]
  },
  {
   "cell_type": "code",
   "execution_count": 41,
   "metadata": {},
   "outputs": [
    {
     "data": {
      "image/png": "[encoded data removed]",
      "text/plain": [
       "<PIL.Image.Image image mode=RGBA size=38x144>"
      ]
     },
     "execution_count": 41,
     "metadata": {},
     "output_type": "execute_result"
    }
   ],
   "source": [
    "wilma_sections[99]"
   ]
  },
  {
   "attachments": {},
   "cell_type": "markdown",
   "metadata": {},
   "source": [
    "3. now place these on background image"
   ]
  },
  {
   "cell_type": "code",
   "execution_count": 42,
   "metadata": {},
   "outputs": [],
   "source": [
    "base_image = background \n",
    "for i in range(100): \n",
    "    overlay_image = waldo_sections[i]\n",
    "    # Get the dimensions of the base image\n",
    "    base_width, base_height = base_image.size\n",
    "\n",
    "    # Get the dimensions of the overlay image\n",
    "    overlay_width, overlay_height = overlay_image.size\n",
    "    for j in range(10): \n",
    "        # Generate random x and y coordinates for the top-left corner of the overlay image\n",
    "        x = random.randint(0, base_width - overlay_width)\n",
    "        y = random.randint(0, base_height - overlay_height)\n",
    "\n",
    "        # Create a new image with the same dimensions as the base image\n",
    "        new_image = Image.new(\"RGBA\", (base_width, base_height), (0, 0, 0, 0))\n",
    "\n",
    "        # Paste the base image onto the new image\n",
    "        new_image.paste(base_image, (0, 0))\n",
    "\n",
    "        # Paste the overlay image onto the new image at the random coordinates\n",
    "        new_image.paste(overlay_image, (x, y), overlay_image)\n",
    "\n",
    "        # Save the new image to a file\n",
    "        new_image.save(f\"images/generated_test_data/waldo_image_{i}_{j}_{x}_{y}.png\") # in each image we save coordinates as last two digits "
   ]
  },
  {
   "cell_type": "code",
   "execution_count": null,
   "metadata": {},
   "outputs": [],
   "source": [
    "base_image = background \n",
    "for i in range(100): \n",
    "    overlay_image = wilma_sections[i]\n",
    "    # Get the dimensions of the base image\n",
    "    base_width, base_height = base_image.size\n",
    "\n",
    "    # Get the dimensions of the overlay image\n",
    "    overlay_width, overlay_height = overlay_image.size\n",
    "    for j in range(10): \n",
    "        # Generate random x and y coordinates for the top-left corner of the overlay image\n",
    "        x = random.randint(0, base_width - overlay_width)\n",
    "        y = random.randint(0, base_height - overlay_height)\n",
    "\n",
    "        # Create a new image with the same dimensions as the base image\n",
    "        new_image = Image.new(\"RGBA\", (base_width, base_height), (0, 0, 0, 0))\n",
    "\n",
    "        # Paste the base image onto the new image\n",
    "        new_image.paste(base_image, (0, 0))\n",
    "\n",
    "        # Paste the overlay image onto the new image at the random coordinates\n",
    "        new_image.paste(overlay_image, (x, y), overlay_image)\n",
    "\n",
    "        # Save the new image to a file\n",
    "        new_image.save(f\"images/generated_test_data/wilma_image_{i}_{j}.png\") # in each image we save coordinates as last two digits "
   ]
  }
 ],
 "metadata": {
  "kernelspec": {
   "display_name": "Python 3",
   "language": "python",
   "name": "python3"
  },
  "language_info": {
   "codemirror_mode": {
    "name": "ipython",
    "version": 3
   },
   "file_extension": ".py",
   "mimetype": "text/x-python",
   "name": "python",
   "nbconvert_exporter": "python",
   "pygments_lexer": "ipython3",
   "version": "3.10.9"
  },
  "orig_nbformat": 4
 },
 "nbformat": 4,
 "nbformat_minor": 2
}
